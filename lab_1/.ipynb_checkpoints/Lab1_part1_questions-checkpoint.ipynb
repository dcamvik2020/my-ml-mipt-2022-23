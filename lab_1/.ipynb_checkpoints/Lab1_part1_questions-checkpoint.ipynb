{
 "cells": [
  {
   "cell_type": "markdown",
   "metadata": {},
   "source": [
    "*Credits: materials from this notebook belong to YSDA [Practical DL](https://github.com/yandexdataschool/Practical_DL) course. Special thanks for making them available online.*"
   ]
  },
  {
   "cell_type": "markdown",
   "metadata": {},
   "source": [
    "# Lab assignment №1, part 1\n",
    "\n",
    "This lab assignment consists of several parts. You are supposed to make some transformations, train some models, estimate the quality of the models and explain your results.\n",
    "\n",
    "Several comments:\n",
    "* Don't hesitate to ask questions, it's a good practice.\n",
    "* No private/public sharing, please. The copied assignments will be graded with 0 points.\n",
    "* Blocks of this lab will be graded separately."
   ]
  },
  {
   "cell_type": "markdown",
   "metadata": {},
   "source": [
    "## 1. Matrix differentiation"
   ]
  },
  {
   "cell_type": "markdown",
   "metadata": {},
   "source": [
    "Since it easy to google every task please please please try to undestand what's going on. The \"just answer\" thing will be not counted, make sure to present derivation of your solution. It is absolutely OK if you found an answer on web then just exercise in $\\LaTeX$ copying it into here."
   ]
  },
  {
   "cell_type": "markdown",
   "metadata": {},
   "source": [
    "Useful links: \n",
    "[1](http://www.machinelearning.ru/wiki/images/2/2a/Matrix-Gauss.pdf)\n",
    "[2](http://www.atmos.washington.edu/~dennis/MatrixCalculus.pdf)"
   ]
  },
  {
   "cell_type": "markdown",
   "metadata": {},
   "source": [
    "## ex. 1"
   ]
  },
  {
   "cell_type": "markdown",
   "metadata": {},
   "source": [
    "$$  \n",
    "y = x^Tx,  \\quad x \\in \\mathbb{R}^N \n",
    "$$"
   ]
  },
  {
   "cell_type": "markdown",
   "metadata": {},
   "source": [
    "$$\n",
    "\\frac{dy}{dx} = ? = 2x\\\\\n",
    "dy = d(x, x) = (dx, x) + (x, dx) = (2x, dx) = (\\frac{dy}{dx}, dx)\n",
    "$$ "
   ]
  },
  {
   "cell_type": "code",
   "execution_count": null,
   "metadata": {
    "collapsed": true,
    "jupyter": {
     "outputs_hidden": true
    }
   },
   "outputs": [],
   "source": []
  },
  {
   "cell_type": "markdown",
   "metadata": {},
   "source": [
    "## ex. 2"
   ]
  },
  {
   "cell_type": "markdown",
   "metadata": {},
   "source": [
    "$$ y = tr(AB) \\quad A,B \\in \\mathbb{R}^{N \\times N} $$ "
   ]
  },
  {
   "cell_type": "markdown",
   "metadata": {},
   "source": [
    "$$\n",
    "\\frac{dy}{dA} = ? = B^T \\\\\n",
    "tr(\\cdot) - \\texttt{linear operator, so it's changeable with derivative} \\\\\n",
    "\\langle A, B \\rangle = tr(A^T B) - \\texttt{scalar product for matrices} \\\\\n",
    "tr(A^T B) = tr(B A^T) = tr(B^T A) = tr(A B^T) = tr (I_N (A^T B)) = \\\\\n",
    "= \\langle A, B \\rangle = \\langle A^T, B^T \\rangle = \\langle I_N, A^TB \\rangle = \\langle I_N, B^TA \\rangle \\\\\n",
    "d (tr(A)) = \\langle \\nabla_A tr(A) , dA\\rangle = \\langle I_N , dA\\rangle \\texttt{(WE WILL USE LAST)}\\\\\n",
    "\\nabla_A tr(A) = || \\delta_{ij} ||_{i, j = 1}^N = I_N \\\\\n",
    "dy = d(tr(AB)) = d(tr(BA)) = d \\langle I , (BA) \\rangle = \\langle I , d(BA) \\rangle = \\langle I , Bd(A) \\rangle = \n",
    "   \\langle B^T , d(A) \\rangle\n",
    "$$"
   ]
  },
  {
   "cell_type": "code",
   "execution_count": null,
   "metadata": {
    "collapsed": true,
    "jupyter": {
     "outputs_hidden": true
    }
   },
   "outputs": [],
   "source": []
  },
  {
   "cell_type": "markdown",
   "metadata": {},
   "source": [
    "## ex. 3"
   ]
  },
  {
   "cell_type": "markdown",
   "metadata": {},
   "source": [
    "$$  \n",
    "y = x^TAc , \\quad A\\in \\mathbb{R}^{N \\times N}, x\\in \\mathbb{R}^{N}, c\\in \\mathbb{R}^{N} \n",
    "$$"
   ]
  },
  {
   "cell_type": "markdown",
   "metadata": {},
   "source": [
    "$$\n",
    "\\frac{dy}{dx} = ? = Ac \\\\\n",
    "y = x^TAc = tr(x^TAc) = tr((x^TAc)^T) = tr((Ac)^T x) \\\\\n",
    "\\frac{dy}{dx} = ((Ac)^T)^T = Ac\n",
    "$$"
   ]
  },
  {
   "cell_type": "markdown",
   "metadata": {},
   "source": [
    "$$\n",
    "\\frac{dy}{dA} = ? = xc^T \\\\\n",
    "y = tr(x^TAc) = tr(cx^TA) \\\\\n",
    "\\frac{dy}{dA} = (cx^T)^T = xc^T\n",
    "$$\n"
   ]
  },
  {
   "cell_type": "markdown",
   "metadata": {},
   "source": [
    "Hint for the latter (one of the ways): use *ex. 2* result and the fact \n",
    "$$\n",
    "tr(ABC) = tr (CAB)\n",
    "$$"
   ]
  },
  {
   "cell_type": "code",
   "execution_count": null,
   "metadata": {
    "collapsed": true,
    "jupyter": {
     "outputs_hidden": true
    }
   },
   "outputs": [],
   "source": []
  },
  {
   "cell_type": "markdown",
   "metadata": {},
   "source": [
    "## ex. 4"
   ]
  },
  {
   "cell_type": "markdown",
   "metadata": {},
   "source": [
    "Classic matrix factorization example. Given matrix $X$ you need to find $A$, $S$ to approximate $X$. This can be done by simple gradient descent iteratively alternating $A$ and $S$ updates.\n",
    "$$\n",
    "J = || X - AS ||_F^2  , \\quad A\\in \\mathbb{R}^{N \\times R} , \\quad S\\in \\mathbb{R}^{R \\times M}\n",
    "$$\n",
    "$$\n",
    "\\frac{dJ}{dS} = ? \n",
    "$$\n",
    "\n",
    "You may use one of the following approaches:"
   ]
  },
  {
   "cell_type": "markdown",
   "metadata": {},
   "source": [
    "#### First approach\n",
    "Using ex.2 and the fact:\n",
    "$$\n",
    "|| X ||_F^2 = tr(XX^T) \n",
    "$$ \n",
    "it is easy to derive gradients (you can find it in one of the refs). \\\\\n",
    "\n",
    "Solution: \\\\\n",
    "rememeber that \n",
    "$$ \n",
    "tr(AB^T) = \\langle A, B \\rangle \\:\\:\\: \\rightarrow \\:\\:\\: \n",
    "d \\: tr(XX^T) = d \\langle X, X \\rangle = 2 * d \\langle X, dX \\rangle \n",
    "$$\n",
    "\n",
    "$$\n",
    "d \\: tr(AXX^TA^T) = d \\langle AX, AX \\rangle = 2 * d \\langle AX, AdX \\rangle = 2 * d \\langle A^TAX, dX \\rangle\n",
    "$$\n",
    "\n",
    "$$ \n",
    "\\frac{dJ}{dS} = \\frac{d}{dS} ( || X - AS ||^2_F ) = \\frac{d}{dS} ( tr ((X - AS)(X - AS)^T) ) = \\\\\n",
    "= \\frac{d}{dS} ( tr (XX^T) - tr (ASX^T) - tr(XS^TA^T) + tr(ASS^TA^T) ) = \\\\\n",
    "= \\frac{d}{dS} ( tr (XX^T) - tr (ASX^T) - tr(ASX^T) + tr(ASS^TA^T) ) = \\\\\n",
    "= 0 - 2 * \\frac{d}{dS} tr(X^TAS) + \\frac{d}{dS} \\langle AS, AS \\rangle = \\\\\n",
    "= -2 * (X^TA)^T + 2 * A^TAS = -2 * A^TX + 2 * A^TAS = -2A^T (X-AS)\n",
    "$$"
   ]
  },
  {
   "cell_type": "markdown",
   "metadata": {},
   "source": [
    "#### Second approach\n",
    "You can use *slightly different techniques* if they suits you. Take a look at this derivation:\n",
    "<img src=\"grad.png\">\n",
    "(excerpt from [Handbook of blind source separation, Jutten, page 517](https://books.google.ru/books?id=PTbj03bYH6kC&printsec=frontcover&dq=Handbook+of+Blind+Source+Separation&hl=en&sa=X&ved=0ahUKEwi-q_apiJDLAhULvXIKHVXJDWcQ6AEIHDAA#v=onepage&q=Handbook%20of%20Blind%20Source%20Separation&f=false), open for better picture)."
   ]
  },
  {
   "cell_type": "markdown",
   "metadata": {},
   "source": [
    "#### Third approach\n",
    "And finally we can use chain rule! \n",
    "let $ F = AS $ \n",
    "\n",
    "**Find**\n",
    "$$\n",
    "\\frac{dJ}{dF} =  \n",
    "$$ \n",
    "and \n",
    "$$\n",
    "\\frac{dF}{dS} =  \n",
    "$$ \n",
    "(the shape should be $ NM \\times RM )$.\n",
    "\n",
    "Now it is easy do get desired gradients:\n",
    "$$\n",
    "\\frac{dJ}{dS} =  \n",
    "$$ "
   ]
  },
  {
   "cell_type": "markdown",
   "metadata": {
    "collapsed": true,
    "jupyter": {
     "outputs_hidden": true
    }
   },
   "source": [
    "## 2. kNN questions\n",
    "Here come the questions from the assignment0_01. Please, refer to the assignment0_01 to get the context of the questions."
   ]
  },
  {
   "cell_type": "markdown",
   "metadata": {},
   "source": [
    "### Question 1\n",
    "\n",
    "Notice the structured patterns in the distance matrix, where some rows or columns are visible brighter. (Note that with the default color scheme black indicates low distances while white indicates high distances.)\n",
    "\n",
    "- What in the data is the cause behind the distinctly bright rows?\n",
    "- What causes the columns?\n",
    "\n",
    "*Your Answer:*\n",
    "\n",
    "\n",
    "- Очень яркий ряд означает, что данная тестовая картинка (номер которой = номер ряда) имеет большое расстояние до большинства картинок из обучающей выборки, то есть они очень разные, что значит, что тестовая картинка какая-то странная (своего рода аномалия, очень неаккуратно написанная или повернутая цифра)\n",
    "- Очень яркая колонка означает, наоборот, что ни одна тестовая картинка не похожа на картинку из обучающей выборки с номером колонки, то есть тестовая выборка может не содержать объектов некоторого класса, или же в обучающую выборку могла попасть какая-то очень странная картинка.\n"
   ]
  },
  {
   "cell_type": "markdown",
   "metadata": {},
   "source": [
    "### Question 2\n",
    "\n",
    "We can also use other distance metrics such as L1 distance.\n",
    "For pixel values $p_{ij}^{(k)}$ at location $(i,j)$ of some image $I_k$, \n",
    "\n",
    "the mean $\\mu$ across all pixels over all images is $$\\mu=\\frac{1}{nhw}\\sum_{k=1}^n\\sum_{i=1}^{h}\\sum_{j=1}^{w}p_{ij}^{(k)}$$\n",
    "And the pixel-wise mean $\\mu_{ij}$ across all images is \n",
    "$$\\mu_{ij}=\\frac{1}{n}\\sum_{k=1}^np_{ij}^{(k)}.$$\n",
    "The general standard deviation $\\sigma$ and pixel-wise standard deviation $\\sigma_{ij}$ is defined similarly.\n",
    "\n",
    "Which of the following preprocessing steps will not change the performance of a Nearest Neighbor classifier that uses L1 distance? Select all that apply.\n",
    "1. Subtracting the mean $\\mu$ ($\\tilde{p}_{ij}^{(k)}=p_{ij}^{(k)}-\\mu$.)\n",
    "2. Subtracting the per pixel mean $\\mu_{ij}$  ($\\tilde{p}_{ij}^{(k)}=p_{ij}^{(k)}-\\mu_{ij}$.)\n",
    "3. Subtracting the mean $\\mu$ and dividing by the standard deviation $\\sigma$.\n",
    "4. Subtracting the pixel-wise mean $\\mu_{ij}$ and dividing by the pixel-wise standard deviation $\\sigma_{ij}$.\n",
    "5. Rotating the coordinate axes of the data.\n",
    "\n",
    "*Your Answer:*\n",
    "1, 2, 5\n",
    "\n",
    "*Your Explanation:*\n",
    " - перенумеровка осей не меняет ничего кроме относительного порядка осей, то есть все расстояния по любой метрике останутся те же самые, L1 расстояние тоже, поэтому 5 пункт пользы не принесет\n",
    " - kNN это метрический алгоритм, поэтому для него данные надо нормировать, то есть переводить в одинаковый масштаб, поэтому важно не только сдвинуть к нулю все координаты, вычитая какое-то число (попиксельное среднее или глобальное среднее по всем пикселям и картинкам), а ещё и разделить на соответствующие дисперсии, иначе же L1 расстояние не изменится \n",
    "\n",
    "$$||x-y||_1 = ||(x - \\mu) - (y - \\mu)||_1 = \\sum_{i=1}^{h}\\sum_{j=1}^{w} |(x_{ij} - \\mu_{ij}) - (y_{ij} - \\mu_{ij})|,$$\n",
    "\n",
    "где $\\mu_{ij}$ могут быть одинаковыми или нет, разницы нет, как видно из формулы выше, поэтому враианты 1 и 2 ничего не изменят\n",
    "\n",
    " - эффект будет, если разделить на дисперсию, потому что так мы сведем все пиксели к одному масштабу (ведь данные могут обладать большим средним и мало дисперсией и, наоборот, малым средним и большой дисперсией -- их надо отнормировать и привести к одинаковым средним и дисперсиям, тогда они будут равнозначны, если же решили не нормировать данные, то надо четко понимать, почему так делать не надо), причем, мне кажется, что вариант 4 больше даст, так как разные пиксели могут иметь разные среднее и дисперсию, поэтому и смотреть на них лучше отдельно"
   ]
  },
  {
   "cell_type": "markdown",
   "metadata": {},
   "source": [
    "## Question 3\n",
    "\n",
    "Which of the following statements about $k$-Nearest Neighbor ($k$-NN) are true in a classification setting, and for all $k$? Select all that apply.\n",
    "1. The decision boundary (hyperplane between classes in feature space) of the k-NN classifier is linear.\n",
    "2. The training error of a 1-NN will always be lower than that of 5-NN.\n",
    "3. The test error of a 1-NN will always be lower than that of a 5-NN.\n",
    "4. The time needed to classify a test example with the k-NN classifier grows with the size of the training set.\n",
    "5. None of the above.\n",
    "\n",
    "*Your Answer:* \n",
    "2, 4\n",
    "\n",
    "*Your Explanation:*\n",
    "1. нет, граница ломаная, примеры были на лекции, семинаре\n",
    "2. да, так как при $k=1$ у нас в обучающей выборке берется класс ровно того элемента, который мы сейчас рассматриваем, поэтому ошибка на тренировочной выборке будет нулевая, а вот при $k=5$ это не обязательно\n",
    "3. нет, если к данной тестовой точке ближе всего элемент тренировочной выборки неправильного класса, при этом оставшиеся из 5 ближайших элементов тренировочной выборки праивльного класса ... то 1-NN ошибется, а 5-NN выдаст верное предсказание, можно подобрать пример таких данных, разбитых на train/test\n",
    "4. да, так как для классификации надо посчитать расстояния между тестовой точкой и всеми точками из обучающей выборки\n",
    "5. нет, есть верные"
   ]
  },
  {
   "cell_type": "code",
   "execution_count": null,
   "metadata": {},
   "outputs": [],
   "source": []
  }
 ],
 "metadata": {
  "kernelspec": {
   "display_name": "Python 3 (ipykernel)",
   "language": "python",
   "name": "python3"
  },
  "language_info": {
   "codemirror_mode": {
    "name": "ipython",
    "version": 3
   },
   "file_extension": ".py",
   "mimetype": "text/x-python",
   "name": "python",
   "nbconvert_exporter": "python",
   "pygments_lexer": "ipython3",
   "version": "3.8.10"
  }
 },
 "nbformat": 4,
 "nbformat_minor": 4
}
